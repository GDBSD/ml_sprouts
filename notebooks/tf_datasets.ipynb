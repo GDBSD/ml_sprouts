{
 "cells": [
  {
   "cell_type": "markdown",
   "metadata": {},
   "source": [
    "# TensorFlow Datasets"
   ]
  },
  {
   "cell_type": "markdown",
   "metadata": {},
   "source": [
    "**TensorFlow Datasets** provides a collection of over 100 datasets you can download with one line of code in this notebook. And you don't need TensorFlow to use these datasets - they can be converted to Numpy arrays with one more line of code."
   ]
  },
  {
   "cell_type": "markdown",
   "metadata": {},
   "source": [
    "### Available Datasets & Documentation\n",
    "**A description of each of the datasets and more information about download options is available in the [TensorFlow Datasets Library](https://www.tensorflow.org/datasets/catalog/overview)**\n",
    "\n",
    "[**TensorFlow Datasets Documentation**](https://colab.research.google.com/github/tensorflow/datasets/blob/master/docs/overview.ipynb#scrollTo=6XvCUmCEd4Dm)"
   ]
  },
  {
   "cell_type": "markdown",
   "metadata": {},
   "source": [
    "#### Installing TensorFlow 2.0 on a Mac\n",
    "To install TensorFlow 2.0 into an Anaconda virtual environment just run the following code from the terminal. In the example **tf** is the name of the virtual environment I want to create.\n",
    "```\n",
    "conda create -n tf tensorflow\n",
    "conda activate tf\n",
    "```"
   ]
  },
  {
   "cell_type": "code",
   "execution_count": 1,
   "metadata": {},
   "outputs": [
    {
     "name": "stderr",
     "output_type": "stream",
     "text": [
      "/Users/garyb/anaconda3/envs/ml/lib/python3.6/site-packages/tensorflow/python/framework/dtypes.py:526: FutureWarning: Passing (type, 1) or '1type' as a synonym of type is deprecated; in a future version of numpy, it will be understood as (type, (1,)) / '(1,)type'.\n",
      "  _np_qint8 = np.dtype([(\"qint8\", np.int8, 1)])\n",
      "/Users/garyb/anaconda3/envs/ml/lib/python3.6/site-packages/tensorflow/python/framework/dtypes.py:527: FutureWarning: Passing (type, 1) or '1type' as a synonym of type is deprecated; in a future version of numpy, it will be understood as (type, (1,)) / '(1,)type'.\n",
      "  _np_quint8 = np.dtype([(\"quint8\", np.uint8, 1)])\n",
      "/Users/garyb/anaconda3/envs/ml/lib/python3.6/site-packages/tensorflow/python/framework/dtypes.py:528: FutureWarning: Passing (type, 1) or '1type' as a synonym of type is deprecated; in a future version of numpy, it will be understood as (type, (1,)) / '(1,)type'.\n",
      "  _np_qint16 = np.dtype([(\"qint16\", np.int16, 1)])\n",
      "/Users/garyb/anaconda3/envs/ml/lib/python3.6/site-packages/tensorflow/python/framework/dtypes.py:529: FutureWarning: Passing (type, 1) or '1type' as a synonym of type is deprecated; in a future version of numpy, it will be understood as (type, (1,)) / '(1,)type'.\n",
      "  _np_quint16 = np.dtype([(\"quint16\", np.uint16, 1)])\n",
      "/Users/garyb/anaconda3/envs/ml/lib/python3.6/site-packages/tensorflow/python/framework/dtypes.py:530: FutureWarning: Passing (type, 1) or '1type' as a synonym of type is deprecated; in a future version of numpy, it will be understood as (type, (1,)) / '(1,)type'.\n",
      "  _np_qint32 = np.dtype([(\"qint32\", np.int32, 1)])\n",
      "/Users/garyb/anaconda3/envs/ml/lib/python3.6/site-packages/tensorflow/python/framework/dtypes.py:535: FutureWarning: Passing (type, 1) or '1type' as a synonym of type is deprecated; in a future version of numpy, it will be understood as (type, (1,)) / '(1,)type'.\n",
      "  np_resource = np.dtype([(\"resource\", np.ubyte, 1)])\n"
     ]
    },
    {
     "name": "stdout",
     "output_type": "stream",
     "text": [
      "\n",
      "WARNING: The TensorFlow contrib module will not be included in TensorFlow 2.0.\n",
      "For more information, please see:\n",
      "  * https://github.com/tensorflow/community/blob/master/rfcs/20180907-contrib-sunset.md\n",
      "  * https://github.com/tensorflow/addons\n",
      "If you depend on functionality not listed there, please file an issue.\n",
      "\n"
     ]
    }
   ],
   "source": [
    "import os\n",
    "import pandas as pd\n",
    "import tensorflow as tf\n",
    "import tensorflow_datasets as tfds"
   ]
  },
  {
   "cell_type": "code",
   "execution_count": 3,
   "metadata": {},
   "outputs": [],
   "source": [
    "# Set the destination for dataset downloads.\n",
    "ROOT = os.path.abspath(os.path.join(\".\", os.pardir))\n",
    "DATASETS_DIRECTORY = '{}/big_data/datasets'.format(ROOT)"
   ]
  },
  {
   "cell_type": "code",
   "execution_count": 4,
   "metadata": {},
   "outputs": [
    {
     "name": "stdout",
     "output_type": "stream",
     "text": [
      "122 datasets are currently available\n"
     ]
    }
   ],
   "source": [
    "print('{} datasets are currently available'.format(len(tfds.list_builders())))"
   ]
  },
  {
   "cell_type": "code",
   "execution_count": 5,
   "metadata": {},
   "outputs": [
    {
     "name": "stdout",
     "output_type": "stream",
     "text": [
      "abstract_reasoning\n",
      "aeslc\n",
      "aflw2k3d\n",
      "amazon_us_reviews\n",
      "bair_robot_pushing_small\n",
      "big_patent\n",
      "bigearthnet\n",
      "billsum\n",
      "binarized_mnist\n",
      "binary_alpha_digits\n",
      "c4\n",
      "caltech101\n",
      "caltech_birds2010\n",
      "caltech_birds2011\n",
      "cars196\n",
      "cassava\n",
      "cats_vs_dogs\n",
      "celeb_a\n",
      "celeb_a_hq\n",
      "chexpert\n",
      "cifar10\n",
      "cifar100\n",
      "cifar10_1\n",
      "cifar10_corrupted\n",
      "clevr\n",
      "cmaterdb\n",
      "cnn_dailymail\n",
      "coco\n",
      "coco2014\n",
      "coil100\n",
      "colorectal_histology\n",
      "colorectal_histology_large\n",
      "curated_breast_imaging_ddsm\n",
      "cycle_gan\n",
      "deep_weeds\n",
      "definite_pronoun_resolution\n",
      "diabetic_retinopathy_detection\n",
      "downsampled_imagenet\n",
      "dsprites\n",
      "dtd\n",
      "dummy_dataset_shared_generator\n",
      "dummy_mnist\n",
      "emnist\n",
      "eurosat\n",
      "fashion_mnist\n",
      "flores\n",
      "food101\n",
      "gap\n",
      "gigaword\n",
      "glue\n",
      "groove\n",
      "higgs\n",
      "horses_or_humans\n",
      "image_label_folder\n",
      "imagenet2012\n",
      "imagenet2012_corrupted\n",
      "imagenet_resized\n",
      "imdb_reviews\n",
      "iris\n",
      "kitti\n",
      "kmnist\n",
      "lfw\n",
      "lm1b\n",
      "lsun\n",
      "malaria\n",
      "mnist\n",
      "mnist_corrupted\n",
      "moving_mnist\n",
      "multi_news\n",
      "multi_nli\n",
      "multi_nli_mismatch\n",
      "newsroom\n",
      "nsynth\n",
      "omniglot\n",
      "open_images_v4\n",
      "oxford_flowers102\n",
      "oxford_iiit_pet\n",
      "para_crawl\n",
      "patch_camelyon\n",
      "pet_finder\n",
      "places365_small\n",
      "quickdraw_bitmap\n",
      "reddit_tifu\n",
      "resisc45\n",
      "rock_paper_scissors\n",
      "rock_you\n",
      "scene_parse150\n",
      "scientific_papers\n",
      "shapes3d\n",
      "smallnorb\n",
      "snli\n",
      "so2sat\n",
      "squad\n",
      "stanford_dogs\n",
      "stanford_online_products\n",
      "starcraft_video\n",
      "sun397\n",
      "super_glue\n",
      "svhn_cropped\n",
      "ted_hrlr_translate\n",
      "ted_multi_translate\n",
      "tf_flowers\n",
      "the300w_lp\n",
      "titanic\n",
      "trivia_qa\n",
      "uc_merced\n",
      "ucf101\n",
      "visual_domain_decathlon\n",
      "voc\n",
      "wider_face\n",
      "wikihow\n",
      "wikipedia\n",
      "wmt14_translate\n",
      "wmt15_translate\n",
      "wmt16_translate\n",
      "wmt17_translate\n",
      "wmt18_translate\n",
      "wmt19_translate\n",
      "wmt_t2t_translate\n",
      "wmt_translate\n",
      "xnli\n",
      "xsum\n"
     ]
    }
   ],
   "source": [
    "for dataset in tfds.list_builders():\n",
    "    print(dataset)"
   ]
  },
  {
   "cell_type": "markdown",
   "metadata": {},
   "source": [
    "### Construct a ```tf.data.Dataset```\n",
    "Setting ```with_info``` to ```True``` will result in the creation of two files in the data directory:\n",
    "- ```dataset_info.json```\n",
    "- ```image.image.json```"
   ]
  },
  {
   "cell_type": "code",
   "execution_count": 6,
   "metadata": {},
   "outputs": [
    {
     "name": "stdout",
     "output_type": "stream",
     "text": [
      "\u001b[1mDownloading and preparing dataset titanic (114.98 KiB) to /Users/garyb/Develop/DS/ml_sprouts/big_data/datasets/titanic/1.0.0...\u001b[0m\n"
     ]
    },
    {
     "data": {
      "application/vnd.jupyter.widget-view+json": {
       "model_id": "7ae79acd455f4f55a022cdc6f21f31b5",
       "version_major": 2,
       "version_minor": 0
      },
      "text/plain": [
       "HBox(children=(IntProgress(value=1, bar_style='info', description='Dl Completed...', max=1, style=ProgressStyl…"
      ]
     },
     "metadata": {},
     "output_type": "display_data"
    },
    {
     "data": {
      "application/vnd.jupyter.widget-view+json": {
       "model_id": "a5156f5953df498dad8d2114c96a4fdf",
       "version_major": 2,
       "version_minor": 0
      },
      "text/plain": [
       "HBox(children=(IntProgress(value=1, bar_style='info', description='Dl Size...', max=1, style=ProgressStyle(des…"
      ]
     },
     "metadata": {},
     "output_type": "display_data"
    },
    {
     "name": "stderr",
     "output_type": "stream",
     "text": [
      "/Users/garyb/anaconda3/envs/ml/lib/python3.6/site-packages/urllib3/connectionpool.py:1004: InsecureRequestWarning: Unverified HTTPS request is being made. Adding certificate verification is strongly advised. See: https://urllib3.readthedocs.io/en/latest/advanced-usage.html#ssl-warnings\n",
      "  InsecureRequestWarning,\n"
     ]
    },
    {
     "name": "stdout",
     "output_type": "stream",
     "text": [
      "\n",
      "\n",
      "\n",
      "\n"
     ]
    },
    {
     "data": {
      "application/vnd.jupyter.widget-view+json": {
       "model_id": "",
       "version_major": 2,
       "version_minor": 0
      },
      "text/plain": [
       "HBox(children=(IntProgress(value=1, bar_style='info', max=1), HTML(value='')))"
      ]
     },
     "metadata": {},
     "output_type": "display_data"
    },
    {
     "name": "stdout",
     "output_type": "stream",
     "text": [
      "\r"
     ]
    },
    {
     "data": {
      "application/vnd.jupyter.widget-view+json": {
       "model_id": "",
       "version_major": 2,
       "version_minor": 0
      },
      "text/plain": [
       "HBox(children=(IntProgress(value=0, description='Shuffling...', max=1, style=ProgressStyle(description_width='…"
      ]
     },
     "metadata": {},
     "output_type": "display_data"
    },
    {
     "name": "stdout",
     "output_type": "stream",
     "text": [
      "WARNING:tensorflow:From /Users/garyb/anaconda3/envs/ml/lib/python3.6/site-packages/tensorflow_datasets/core/file_format_adapter.py:209: tf_record_iterator (from tensorflow.python.lib.io.tf_record) is deprecated and will be removed in a future version.\n",
      "Instructions for updating:\n",
      "Use eager execution and: \n",
      "`tf.data.TFRecordDataset(path)`\n"
     ]
    },
    {
     "name": "stderr",
     "output_type": "stream",
     "text": [
      "WARNING:tensorflow:From /Users/garyb/anaconda3/envs/ml/lib/python3.6/site-packages/tensorflow_datasets/core/file_format_adapter.py:209: tf_record_iterator (from tensorflow.python.lib.io.tf_record) is deprecated and will be removed in a future version.\n",
      "Instructions for updating:\n",
      "Use eager execution and: \n",
      "`tf.data.TFRecordDataset(path)`\n"
     ]
    },
    {
     "data": {
      "application/vnd.jupyter.widget-view+json": {
       "model_id": "",
       "version_major": 2,
       "version_minor": 0
      },
      "text/plain": [
       "HBox(children=(IntProgress(value=1, bar_style='info', description='Reading...', max=1, style=ProgressStyle(des…"
      ]
     },
     "metadata": {},
     "output_type": "display_data"
    },
    {
     "data": {
      "application/vnd.jupyter.widget-view+json": {
       "model_id": "",
       "version_major": 2,
       "version_minor": 0
      },
      "text/plain": [
       "HBox(children=(IntProgress(value=0, description='Writing...', max=1309, style=ProgressStyle(description_width=…"
      ]
     },
     "metadata": {},
     "output_type": "display_data"
    },
    {
     "name": "stdout",
     "output_type": "stream",
     "text": [
      "\r",
      "\u001b[1mDataset titanic downloaded and prepared to /Users/garyb/Develop/DS/ml_sprouts/big_data/datasets/titanic/1.0.0. Subsequent calls will reuse this data.\u001b[0m\n"
     ]
    }
   ],
   "source": [
    "# The \"titanic\" is a relatively small dataset to confirm that your setup is working,\n",
    "ds, info = tfds.load(name='titanic', with_info=True, data_dir=DATASETS_DIRECTORY, split=tfds.Split.TRAIN)"
   ]
  },
  {
   "cell_type": "markdown",
   "metadata": {},
   "source": [
    "builder: DatasetBuilder, dataset builder for this info.\n",
    "description: str, description of this dataset.\n",
    "features: tfds.features.FeaturesDict, Information on the feature dict of the tf.data.Dataset() object from the builder.as_dataset() method.\n",
    "supervised_keys: tuple of (input_key, target_key), Specifies the input feature and the label for supervised learning, if applicable for the dataset. The keys correspond to the feature names to select in info.features. When calling tfds.core.DatasetBuilder.as_dataset() with as_supervised=True, the tf.data.Dataset object will yield the (input, target) defined here.\n",
    "urls: list(str), optional, the homepage(s) for this dataset.\n",
    "citation: str, optional, the citation to use for this dataset.\n",
    "metadata: tfds.core.Metadata, additional object which will be stored/restored with the dataset. This allows for storing additional information with the dataset.\n",
    "redistribution_info: dict, optional, information needed for redistribution, as specified in dataset_info_pb2.RedistributionInfo. The content of the license subfield will automatically be written to a LICENSE file stored with the dataset."
   ]
  },
  {
   "cell_type": "markdown",
   "metadata": {},
   "source": [
    "Look at the dataset info:"
   ]
  },
  {
   "cell_type": "code",
   "execution_count": 7,
   "metadata": {},
   "outputs": [
    {
     "name": "stdout",
     "output_type": "stream",
     "text": [
      "tfds.core.DatasetInfo(\n",
      "    name='titanic',\n",
      "    version=1.0.0,\n",
      "    description='Dataset describing the survival status of individual passengers on the Titanic. Missing values in the original dataset are represented using ?. Float and int missing values are replaced with -1, string missing values are replaced with 'Unknown'.',\n",
      "    urls=['https://www.openml.org/d/40945'],\n",
      "    features=FeaturesDict({\n",
      "        'features': FeaturesDict({\n",
      "            'age': Tensor(shape=(), dtype=tf.float32),\n",
      "            'boat': Tensor(shape=(), dtype=tf.string),\n",
      "            'body': Tensor(shape=(), dtype=tf.int32),\n",
      "            'cabin': Tensor(shape=(), dtype=tf.string),\n",
      "            'embarked': ClassLabel(shape=(), dtype=tf.int64, num_classes=4),\n",
      "            'fare': Tensor(shape=(), dtype=tf.float32),\n",
      "            'home.dest': Tensor(shape=(), dtype=tf.string),\n",
      "            'name': Tensor(shape=(), dtype=tf.string),\n",
      "            'parch': Tensor(shape=(), dtype=tf.int32),\n",
      "            'pclass': ClassLabel(shape=(), dtype=tf.int64, num_classes=3),\n",
      "            'sex': ClassLabel(shape=(), dtype=tf.int64, num_classes=2),\n",
      "            'sibsp': Tensor(shape=(), dtype=tf.int32),\n",
      "            'ticket': Tensor(shape=(), dtype=tf.string),\n",
      "        }),\n",
      "        'survived': ClassLabel(shape=(), dtype=tf.int64, num_classes=2),\n",
      "    }),\n",
      "    total_num_examples=1309,\n",
      "    splits={\n",
      "        'train': 1309,\n",
      "    },\n",
      "    supervised_keys=('features', 'survived'),\n",
      "    citation=\"\"\"@ONLINE {titanic,\n",
      "    author = \"Frank E. Harrell Jr., Thomas Cason\",\n",
      "    title  = \"Titanic dataset\",\n",
      "    month  = \"oct\",\n",
      "    year   = \"2017\",\n",
      "    url    = \"https://www.openml.org/d/40945\"\n",
      "    }\"\"\",\n",
      "    redistribution_info=,\n",
      ")\n",
      "\n"
     ]
    }
   ],
   "source": [
    "print(info)"
   ]
  },
  {
   "cell_type": "markdown",
   "metadata": {},
   "source": [
    "#### Numpy\n",
    "Convert your tf.data.Dataset to an iterable of NumPy arrays then convert that into a dataframe"
   ]
  },
  {
   "cell_type": "code",
   "execution_count": 8,
   "metadata": {},
   "outputs": [
    {
     "name": "stdout",
     "output_type": "stream",
     "text": [
      "WARNING:tensorflow:From /Users/garyb/anaconda3/envs/ml/lib/python3.6/site-packages/tensorflow/python/data/ops/dataset_ops.py:1419: colocate_with (from tensorflow.python.framework.ops) is deprecated and will be removed in a future version.\n",
      "Instructions for updating:\n",
      "Colocations handled automatically by placer.\n"
     ]
    },
    {
     "name": "stderr",
     "output_type": "stream",
     "text": [
      "WARNING:tensorflow:From /Users/garyb/anaconda3/envs/ml/lib/python3.6/site-packages/tensorflow/python/data/ops/dataset_ops.py:1419: colocate_with (from tensorflow.python.framework.ops) is deprecated and will be removed in a future version.\n",
      "Instructions for updating:\n",
      "Colocations handled automatically by placer.\n"
     ]
    }
   ],
   "source": [
    "# g is a generator\n",
    "g = tfds.as_numpy(ds)"
   ]
  },
  {
   "cell_type": "code",
   "execution_count": 9,
   "metadata": {},
   "outputs": [],
   "source": [
    "df = pd.DataFrame(g)"
   ]
  },
  {
   "cell_type": "code",
   "execution_count": 10,
   "metadata": {},
   "outputs": [
    {
     "data": {
      "text/html": [
       "<div>\n",
       "<style scoped>\n",
       "    .dataframe tbody tr th:only-of-type {\n",
       "        vertical-align: middle;\n",
       "    }\n",
       "\n",
       "    .dataframe tbody tr th {\n",
       "        vertical-align: top;\n",
       "    }\n",
       "\n",
       "    .dataframe thead th {\n",
       "        text-align: right;\n",
       "    }\n",
       "</style>\n",
       "<table border=\"1\" class=\"dataframe\">\n",
       "  <thead>\n",
       "    <tr style=\"text-align: right;\">\n",
       "      <th></th>\n",
       "      <th>features</th>\n",
       "      <th>survived</th>\n",
       "    </tr>\n",
       "  </thead>\n",
       "  <tbody>\n",
       "    <tr>\n",
       "      <th>0</th>\n",
       "      <td>{'age': 35.0, 'boat': b'Unknown', 'body': -1, ...</td>\n",
       "      <td>0</td>\n",
       "    </tr>\n",
       "    <tr>\n",
       "      <th>1</th>\n",
       "      <td>{'age': 20.0, 'boat': b'C', 'body': -1, 'cabin...</td>\n",
       "      <td>1</td>\n",
       "    </tr>\n",
       "    <tr>\n",
       "      <th>2</th>\n",
       "      <td>{'age': -1.0, 'boat': b'Unknown', 'body': -1, ...</td>\n",
       "      <td>0</td>\n",
       "    </tr>\n",
       "    <tr>\n",
       "      <th>3</th>\n",
       "      <td>{'age': -1.0, 'boat': b'Unknown', 'body': -1, ...</td>\n",
       "      <td>0</td>\n",
       "    </tr>\n",
       "    <tr>\n",
       "      <th>4</th>\n",
       "      <td>{'age': -1.0, 'boat': b'Unknown', 'body': -1, ...</td>\n",
       "      <td>0</td>\n",
       "    </tr>\n",
       "  </tbody>\n",
       "</table>\n",
       "</div>"
      ],
      "text/plain": [
       "                                            features  survived\n",
       "0  {'age': 35.0, 'boat': b'Unknown', 'body': -1, ...         0\n",
       "1  {'age': 20.0, 'boat': b'C', 'body': -1, 'cabin...         1\n",
       "2  {'age': -1.0, 'boat': b'Unknown', 'body': -1, ...         0\n",
       "3  {'age': -1.0, 'boat': b'Unknown', 'body': -1, ...         0\n",
       "4  {'age': -1.0, 'boat': b'Unknown', 'body': -1, ...         0"
      ]
     },
     "execution_count": 10,
     "metadata": {},
     "output_type": "execute_result"
    }
   ],
   "source": [
    "df.head()"
   ]
  },
  {
   "cell_type": "code",
   "execution_count": null,
   "metadata": {},
   "outputs": [],
   "source": []
  }
 ],
 "metadata": {
  "hide_input": false,
  "kernelspec": {
   "display_name": "Python 3",
   "language": "python",
   "name": "python3"
  },
  "language_info": {
   "codemirror_mode": {
    "name": "ipython",
    "version": 3
   },
   "file_extension": ".py",
   "mimetype": "text/x-python",
   "name": "python",
   "nbconvert_exporter": "python",
   "pygments_lexer": "ipython3",
   "version": "3.6.7"
  },
  "pycharm": {
   "stem_cell": {
    "cell_type": "raw",
    "metadata": {
     "collapsed": false
    },
    "source": []
   }
  }
 },
 "nbformat": 4,
 "nbformat_minor": 2
}
